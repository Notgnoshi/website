{
 "cells": [
  {
   "cell_type": "code",
   "execution_count": null,
   "metadata": {},
   "outputs": [],
   "source": [
    "%matplotlib inline\n",
    "import matplotlib.pyplot as plt\n",
    "import numpy as np\n",
    "\n",
    "from matplotlib import animation, rc\n",
    "\n",
    "# Display matplotlib animations as HTML5 videos\n",
    "rc('animation', html='html5')"
   ]
  },
  {
   "cell_type": "code",
   "execution_count": null,
   "metadata": {},
   "outputs": [],
   "source": [
    "# Create a grid of points in x-y space \n",
    "xvals = np.linspace(-4, 4, 9)\n",
    "yvals = np.linspace(-3, 3, 7)\n",
    "xygrid = np.column_stack([[x, y] for x in xvals for y in yvals])"
   ]
  },
  {
   "cell_type": "code",
   "execution_count": null,
   "metadata": {},
   "outputs": [],
   "source": [
    "def colorizer(x, y):\n",
    "    \"\"\"\n",
    "        Map x-y coordinates to a unique rgb color\n",
    "    \"\"\"\n",
    "    r = min(1, 1 - y/3)\n",
    "    g = min(1, 1 + y/3)\n",
    "    b = 1/4 + x/16\n",
    "    return r, g, b"
   ]
  },
  {
   "cell_type": "code",
   "execution_count": null,
   "metadata": {},
   "outputs": [],
   "source": [
    "# Map grid coordinates to colors. Done only for xygrid, not all grids.\n",
    "colors = list(map(colorizer, xygrid[0], xygrid[1]))"
   ]
  },
  {
   "cell_type": "code",
   "execution_count": null,
   "metadata": {},
   "outputs": [],
   "source": [
    "# Apply linear transform by the new basis vectors u, v = (2, 1), (-1, 1). I.e, the matrix [[2, -1], [1, 1]]\n",
    "A = np.column_stack([[2, 1], [-1, 1]])\n",
    "print(A)\n",
    "uvgrid = A @ xygrid  # @ is matrix multiply, * is elementwise multiplication, with broadcasting."
   ]
  },
  {
   "cell_type": "code",
   "execution_count": null,
   "metadata": {},
   "outputs": [],
   "source": [
    "def plot_grid(grid):\n",
    "    \"\"\"\n",
    "        Plots a grid on the x-y plane. Useful for showing transformations\n",
    "    \"\"\"\n",
    "    # Plot grid points \n",
    "    plt.figure(figsize=(4, 4), facecolor=\"w\")\n",
    "    plt.scatter(grid[0], grid[1], s=36, c=colors, edgecolor=\"none\")\n",
    "\n",
    "    # Set axis limits\n",
    "    plt.grid(False)\n",
    "    plt.axis(\"equal\")\n",
    "    plt.show()"
   ]
  },
  {
   "cell_type": "code",
   "execution_count": null,
   "metadata": {},
   "outputs": [],
   "source": [
    "plot_grid(xygrid)"
   ]
  },
  {
   "cell_type": "code",
   "execution_count": null,
   "metadata": {},
   "outputs": [],
   "source": [
    "plot_grid(uvgrid)"
   ]
  },
  {
   "cell_type": "code",
   "execution_count": null,
   "metadata": {},
   "outputs": [],
   "source": [
    "def stepwise_transform(A, grid, num_steps):\n",
    "    \"\"\"\n",
    "        Returns a list of transformed grids, stepping from the given grid to the grid A @ grid.\n",
    "    \"\"\"\n",
    "    # create empty array of the right size\n",
    "    transgrid = np.zeros((num_steps + 1, ) + np.shape(grid))\n",
    "    # compute intermediate transforms\n",
    "    for i in range(num_steps + 1):\n",
    "        intermediate = np.eye(2) + i / num_steps * (A - np.eye(2))\n",
    "        # apply intermediate matrix transformation\n",
    "        transgrid[i] = intermediate @ grid\n",
    "    return transgrid"
   ]
  },
  {
   "cell_type": "code",
   "execution_count": null,
   "metadata": {},
   "outputs": [],
   "source": [
    "steps = 50\n",
    "transform = stepwise_transform(A, xygrid, steps)"
   ]
  },
  {
   "cell_type": "code",
   "execution_count": null,
   "metadata": {},
   "outputs": [],
   "source": [
    "def animate_transform(A, grid=None, num_steps=50, repeat=False):\n",
    "    \"\"\"\n",
    "        Animates the effect a transform has on a given grid. If no grid is given, one will be generated.\n",
    "        \n",
    "        You can expect a small delay while the function generates the animation.\n",
    "    \"\"\"\n",
    "    if grid is None:\n",
    "        # Create a grid of points in x-y space \n",
    "        xvals = np.linspace(-4, 4, 9)\n",
    "        yvals = np.linspace(-3, 3, 7)\n",
    "        grid = np.column_stack([[x, y] for x in xvals for y in yvals])\n",
    "\n",
    "    # Map grid coordinates to colors. Done only for xygrid, not all grids.\n",
    "    colors = list(map(colorizer, grid[0], grid[1]))\n",
    "    intermediate_transforms = stepwise_transform(A, grid, num_steps)\n",
    "    fig = plt.figure(figsize=(6, 6))\n",
    "\n",
    "    xmin = min(min(grid[0]), min(intermediate_transforms[-1][0]))\n",
    "    xmax = max(max(grid[0]), max(intermediate_transforms[-1][0]))\n",
    "    ymin = min(min(grid[1]), min(intermediate_transforms[-1][1]))\n",
    "    ymax = max(max(grid[1]), max(intermediate_transforms[-1][1]))\n",
    "\n",
    "    ax = plt.axes(xlim=(xmin, xmax), ylim=(ymin, ymax))\n",
    "    scatter = ax.scatter([0]*len(colors), [0]*len(colors), c=colors)\n",
    "    # Prevent `%matplotlib inline` from displaying the above scatter plot.\n",
    "    plt.close()\n",
    "\n",
    "    def update(i):\n",
    "        \"\"\"Draws the ith intermediate transform\"\"\"\n",
    "        scatter.set_offsets(intermediate_transforms[i].T)\n",
    "        return scatter,\n",
    "\n",
    "    return animation.FuncAnimation(fig, update, interval=50, frames=num_steps, blit=True, repeat=repeat)"
   ]
  },
  {
   "cell_type": "code",
   "execution_count": null,
   "metadata": {},
   "outputs": [],
   "source": [
    "anim = animate_transform(A, repeat=True)\n",
    "# anim.save('test.mp4')\n",
    "anim"
   ]
  },
  {
   "cell_type": "code",
   "execution_count": null,
   "metadata": {},
   "outputs": [],
   "source": [
    "A = np.column_stack([[1, 0], [2, 1]])\n",
    "anim = animate_transform(A, repeat=True)\n",
    "# anim.save('shear.mp4')\n",
    "anim"
   ]
  },
  {
   "cell_type": "code",
   "execution_count": null,
   "metadata": {},
   "outputs": [],
   "source": [
    "A = np.column_stack([[1, 0], [0, 0]])\n",
    "anim = animate_transform(A, repeat=True)\n",
    "# anim.save('projection.mp4')\n",
    "anim"
   ]
  },
  {
   "cell_type": "code",
   "execution_count": null,
   "metadata": {},
   "outputs": [],
   "source": [
    "theta = np.pi / 6 # 30 degree clockwise rotation\n",
    "A = np.column_stack([[np.cos(theta), np.sin(theta)], [-np.sin(theta), np.cos(theta)]])\n",
    "anim = animate_transform(A, repeat=True)\n",
    "# anim.save('rotation.mp4')\n",
    "anim"
   ]
  },
  {
   "cell_type": "code",
   "execution_count": null,
   "metadata": {},
   "outputs": [],
   "source": [
    "A = np.column_stack([[0, 1], [1, 0]])\n",
    "anim = animate_transform(A, repeat=True)\n",
    "# anim.save('permutation.mp4')\n",
    "anim"
   ]
  },
  {
   "cell_type": "code",
   "execution_count": null,
   "metadata": {},
   "outputs": [],
   "source": [
    "B = np.matrix([[1, 2], [3, 4]])\n",
    "A @ B"
   ]
  },
  {
   "cell_type": "code",
   "execution_count": null,
   "metadata": {},
   "outputs": [],
   "source": [
    "A = np.column_stack([[2, 0], [0, 5]])\n",
    "anim = animate_transform(A, repeat=True)\n",
    "# anim.save('scale.mp4')\n",
    "anim"
   ]
  },
  {
   "cell_type": "code",
   "execution_count": null,
   "metadata": {},
   "outputs": [],
   "source": [
    "theta = np.pi / 6 # 30 degree clockwise rotation\n",
    "A = np.column_stack([[np.cos(theta), np.sin(theta)], [-np.sin(theta), np.cos(theta)]])\n",
    "B = np.column_stack([[2, 0], [0, 1]])\n",
    "anim = animate_transform(A @ B, repeat=True)\n",
    "# anim.save('combination.mp4')\n",
    "anim"
   ]
  },
  {
   "cell_type": "code",
   "execution_count": null,
   "metadata": {},
   "outputs": [],
   "source": [
    "animate_transform(B @ A, repeat=True)"
   ]
  }
 ],
 "metadata": {
  "kernelspec": {
   "display_name": "random-curves",
   "language": "python",
   "name": "random-curves"
  },
  "language_info": {
   "codemirror_mode": {
    "name": "ipython",
    "version": 3
   },
   "file_extension": ".py",
   "mimetype": "text/x-python",
   "name": "python",
   "nbconvert_exporter": "python",
   "pygments_lexer": "ipython3",
   "version": "3.7.5"
  }
 },
 "nbformat": 4,
 "nbformat_minor": 4
}
